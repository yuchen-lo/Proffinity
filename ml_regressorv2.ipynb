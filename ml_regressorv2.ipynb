{
 "cells": [
  {
   "cell_type": "code",
   "execution_count": 1,
   "id": "18cc33ac",
   "metadata": {},
   "outputs": [],
   "source": [
    "from math import sqrt\n",
    "from ipywidgets import IntProgress\n",
    "from IPython.display import display\n",
    "from ipywidgets import FileUpload\n",
    "from IPython.display import display, clear_output\n",
    "from ipywidgets import BoundedFloatText, widgets, VBox, HBox\n",
    "import plotly.express as px\n",
    "import numpy as np\n",
    "import pandas as pd\n",
    "from pycaret.regression import *\n",
    "import os\n",
    "from sklearn.metrics import r2_score, mean_squared_error, root_mean_squared_error"
   ]
  },
  {
   "cell_type": "markdown",
   "id": "ffb473ef-c844-464c-84e5-ab42a890a722",
   "metadata": {},
   "source": [
    "## Proffinity ML Prediction Module"
   ]
  },
  {
   "cell_type": "code",
   "execution_count": 2,
   "id": "20e02399-08e4-47c4-92ee-622d4a3197d9",
   "metadata": {},
   "outputs": [],
   "source": [
    "content={\"input\":\"\",\"model\":\"\",\"outname\":\"\"}"
   ]
  },
  {
   "cell_type": "code",
   "execution_count": 3,
   "id": "1c2f6472-2c4a-4431-8a3b-f08082f9cc84",
   "metadata": {},
   "outputs": [],
   "source": [
    "out = widgets.Output(layout={'border': '1px solid black','width':'1000px'})\n",
    "#out"
   ]
  },
  {
   "cell_type": "code",
   "execution_count": 4,
   "id": "c0c58b80-1b54-4e89-b353-eb8f860d8b93",
   "metadata": {},
   "outputs": [],
   "source": [
    "def load_ipywiget_model(widget):\n",
    "    content['model'] = list(widget['new'])[0].split('.')[0]\n",
    "    with out:\n",
    "        display(\"load \"+content['model'])"
   ]
  },
  {
   "cell_type": "code",
   "execution_count": 5,
   "id": "c2a9275a-3d21-46b2-abc0-a2173ed5da4c",
   "metadata": {},
   "outputs": [],
   "source": [
    "def on_button_clicked(b):\n",
    "    path = './'\n",
    "    dropdown = widgets.SelectMultiple(\n",
    "                        options=[f for f in os.listdir(path) if f.endswith('.pkl')],\n",
    "                        description='models',\n",
    "                        disabled=False,\n",
    "                        layout={'height':'100px', 'width':'40%'})\n",
    "    dropdown.observe(load_ipywiget_model, names='value')\n",
    "    \n",
    "\n",
    "    with out:\n",
    "        clear_output()\n",
    "        display(dropdown)"
   ]
  },
  {
   "cell_type": "code",
   "execution_count": 6,
   "id": "e269fee2-432b-4bf3-a8f5-9f108dc614a2",
   "metadata": {},
   "outputs": [],
   "source": [
    "button = widgets.Button(description=\"Load Model\")\n",
    "button.on_click(on_button_clicked)\n",
    "#button"
   ]
  },
  {
   "cell_type": "code",
   "execution_count": 7,
   "id": "124033f3-1f6c-45e5-9ae2-15c511dbcc54",
   "metadata": {},
   "outputs": [],
   "source": [
    "out2 = widgets.Output(layout={'border':'1px solid black','width':'1000px'})\n",
    "#out2"
   ]
  },
  {
   "cell_type": "code",
   "execution_count": 8,
   "id": "72a8db0f-1ef9-42b6-96d9-91454f2dfb6f",
   "metadata": {},
   "outputs": [],
   "source": [
    "def load_input(widget):\n",
    "    content['input'] = list(widget['new'])[0]\n",
    "    content['outname'] = list(widget['new'])[0].split('.')[0]\n",
    "    df = pd.read_csv(content[\"input\"], header=0, index_col=0)\n",
    "    \n",
    "    with out2:\n",
    "        display(\"load \"+content['input'])\n",
    "        display(df)"
   ]
  },
  {
   "cell_type": "code",
   "execution_count": 9,
   "id": "ee281ca7-373a-476d-9a8c-3d763cf243be",
   "metadata": {},
   "outputs": [],
   "source": [
    "def on_button2_clicked(b):\n",
    "    path = './'\n",
    "    dropdown = widgets.SelectMultiple(\n",
    "                        options=[f for f in os.listdir(path) if f.endswith('.csv') and f.startswith('ppi_index_')],\n",
    "                        description='inputs',\n",
    "                        disabled=False,\n",
    "                        layout={'height':'100px', 'width':'40%'})\n",
    "    dropdown.observe(load_input, names='value')\n",
    "\n",
    "    with out2:\n",
    "        clear_output()\n",
    "        display(dropdown)"
   ]
  },
  {
   "cell_type": "code",
   "execution_count": 10,
   "id": "12829ccd-c0ac-484d-b12c-75f5ed6a46f2",
   "metadata": {},
   "outputs": [],
   "source": [
    "button2 = widgets.Button(description=\"Load Inputs\")\n",
    "button2.on_click(on_button2_clicked)\n",
    "#button2"
   ]
  },
  {
   "cell_type": "code",
   "execution_count": 11,
   "id": "5e69e9b2-c122-42f7-a5c0-d9e2ea59e040",
   "metadata": {},
   "outputs": [],
   "source": [
    "out3 = widgets.Output(layout={'border':'1px solid black','width':'1000px'})\n",
    "#out3"
   ]
  },
  {
   "cell_type": "code",
   "execution_count": 12,
   "id": "87a84a55-34a1-4fb3-8656-8316a0d9eacf",
   "metadata": {},
   "outputs": [],
   "source": [
    "def on_button3_clicked(b):\n",
    "    \n",
    "    saved_ml = load_model(content['model'])\n",
    "    df_test=pd.read_csv(content[\"input\"], header=0, index_col=0)\n",
    "    pred_test=predict_model(saved_ml,data=df_test)\n",
    "    pred_test_output=pred_test[['kd','prediction_label']]\n",
    "    pred_test_output.to_csv(content[\"outname\"]+\"_pred.csv\")\n",
    "    pred_test_output['data']=content['outname']\n",
    "\n",
    "    pred_ground=pd.read_csv('./background/ppi_index_extract_skempiv2_pred.csv', header=0, index_col=0)\n",
    "    pred_ground_output=pred_ground[['kd','prediction_label']]\n",
    "    pred_ground_output['data']='skempiv2-ref'\n",
    "\n",
    "    pred_output=pd.concat([pred_ground_output,pred_test_output])\n",
    "\n",
    "    \n",
    "    fig = px.scatter(pred_output, x=\"kd\", y=\"prediction_label\", color=\"data\", opacity=0.6)\n",
    "    r2=r2_score(pred_test_output['kd'],pred_test_output['prediction_label'])\n",
    "    mse=mean_squared_error(pred_test_output['kd'],pred_test_output['prediction_label'])\n",
    "    \n",
    "    with out3:\n",
    "        clear_output()\n",
    "        display(pred_output)\n",
    "        display(fig)\n",
    "        display(\"r2_score:\"+str(r2))\n",
    "        display(\"mse:\"+str(mse))\n",
    "        #display(HBox([pred_output,fig]))\n",
    "        display(\"save to \"+content[\"outname\"]+\"_pred.csv\")"
   ]
  },
  {
   "cell_type": "code",
   "execution_count": 13,
   "id": "1960e990-2655-42b4-94fb-09b072a515e8",
   "metadata": {},
   "outputs": [],
   "source": [
    "def on_button3_clickedv2(b):\n",
    "    \n",
    "    saved_ml = load_model(content['model'])\n",
    "    df_test=pd.read_csv(content[\"input\"], header=0, index_col=0)\n",
    "\n",
    "    #divide into test and validation set\n",
    "    df_tset=df_test[df_test['kd'].isna()==1]\n",
    "    df_tset=df_tset.drop(columns=['kd'])\n",
    "    df_vset=df_test[df_test['kd'].isna() != 1]\n",
    "\n",
    "    if df_tset.empty == False:\n",
    "        df_tset_pred=predict_model(saved_ml,data=df_tset)\n",
    "        df_tset_output=df_tset_pred[['prediction_label']]\n",
    "        df_tset_output['data']=content['outname']\n",
    "        df_rset_pred=pd.read_csv('./background/'+content['model'].split('_')[2]+'_pred.csv', header=0, index_col=0)\n",
    "        df_rset_output=df_rset_pred[['prediction_label']]\n",
    "        df_rset_output['data']='skempiv2-ref'\n",
    "        df_tset_final_output=pd.concat([df_rset_output,df_tset_output])\n",
    "        tset_mean=df_tset_output['prediction_label'].mean()\n",
    "        tset_max=df_tset_output['prediction_label'].max()\n",
    "        tset_min=df_tset_output['prediction_label'].min()\n",
    "        rset_mean=df_rset_output['prediction_label'].mean()\n",
    "        rset_max=df_rset_output['prediction_label'].max()\n",
    "        rset_min=df_rset_output['prediction_label'].min()\n",
    "        \n",
    "        fig_tset = px.histogram(df_tset_final_output,x=\"prediction_label\",color=\"data\",barmode=\"overlay\",histnorm=\"percent\",width=600, height=400 )\n",
    "\n",
    "        #plot histrogram\n",
    "\n",
    "    if df_vset.empty == False:\n",
    "        df_vset_pred=predict_model(saved_ml,data=df_vset)\n",
    "        df_vset_output=df_vset_pred[['kd','prediction_label']]\n",
    "        df_vset_bar=df_vset_output\n",
    "        df_vset_bar['id']=df_vset_bar.index\n",
    "        df_vset_bar2=pd.melt(df_vset_bar, id_vars=[\"id\"], value_vars=[\"kd\", \"prediction_label\"])\n",
    "        fig_vset_bar = px.bar(df_vset_bar2, x='id', y='value', color='variable',barmode='group',width=600, height=400)\n",
    "        \n",
    "        df_vset_output['data']=content['outname']\n",
    "        df_rset_pred=pd.read_csv('./background/'+content['model'].split('_')[2]+'_pred.csv', header=0, index_col=0)\n",
    "        df_rset_output=df_rset_pred[['kd','prediction_label']]\n",
    "        df_rset_output['data']=content['model'].split('_')[2]\n",
    "        df_vset_final_output=pd.concat([df_rset_output,df_vset_output])\n",
    "        fig_vset = px.scatter(df_vset_final_output, x=\"kd\", y=\"prediction_label\", color=\"data\", opacity=0.6,width=600, height=400)\n",
    "        \n",
    "        vset_r2=round(r2_score(df_vset_output['kd'],df_vset_output['prediction_label']),3)\n",
    "        rset_r2=round(r2_score(df_rset_output['kd'],df_rset_output['prediction_label']),3)\n",
    "        vset_mse=round(mean_squared_error(df_vset_output['kd'],df_vset_output['prediction_label']),3)\n",
    "        rset_mse=round(mean_squared_error(df_rset_output['kd'],df_rset_output['prediction_label']),3)\n",
    "    \n",
    "    with out3:\n",
    "        clear_output()\n",
    "        if df_vset.empty == False:\n",
    "            display(fig_vset)\n",
    "            display(\"validation set r2_score:\"+str(vset_r2)+\" / reference set r2_score:\"+str(rset_r2))\n",
    "            display(fig_vset_bar)\n",
    "            display(\"validation set mse:\"+str(vset_mse)+\" / reference set mse:\"+str(rset_mse))\n",
    "            df_vset_pred.to_csv(\"pred_\"+content[\"outname\"]+\"_by_\"+content['model'].split('_')[2]+\"_vset.csv\")\n",
    "            display(\"save to pred_\"+content[\"outname\"]+\"_by_\"+content['model'].split('_')[2]+\"_vset.csv\")\n",
    "        if df_tset.empty == False:\n",
    "            display(fig_tset)\n",
    "            display(\"test set mean:\"+str(tset_mean)+\" max:\"+str(tset_max)+\" min:\"+str(tset_min))\n",
    "            display(\"reference set mean:\"+str(rset_mean)+\" max:\"+str(rset_max)+\" min:\"+str(rset_min))\n",
    "            #df_tset_pred.to_csv(content['outname']+\"_pred.csv\")\n",
    "            df_tset_pred.to_csv(\"pred_\"+content[\"outname\"]+\"_by_\"+content['model'].split('_')[2]+\"_tset.csv\")\n",
    "            display(\"save to pred_\"+content[\"outname\"]+\"_by_\"+content['model'].split('_')[2]+\"_tset.csv\")"
   ]
  },
  {
   "cell_type": "code",
   "execution_count": 14,
   "id": "041d64f6-8128-444c-83fc-7b78603f137a",
   "metadata": {},
   "outputs": [],
   "source": [
    "button3 = widgets.Button(description=\"Prediction\")\n",
    "button3.on_click(on_button3_clickedv2)\n",
    "#button3"
   ]
  },
  {
   "cell_type": "code",
   "execution_count": 15,
   "id": "302d4ec7-5d4d-4a52-8803-028008e0b6eb",
   "metadata": {},
   "outputs": [],
   "source": [
    "scene = HBox([VBox([out,button,out2,button2]),VBox([out3,button3]) ])"
   ]
  },
  {
   "cell_type": "code",
   "execution_count": 16,
   "id": "6fac433f-a730-45c0-b71f-8f0d67c18ce4",
   "metadata": {},
   "outputs": [
    {
     "data": {
      "application/vnd.jupyter.widget-view+json": {
       "model_id": "541a3c703de84811a13547243f3d5aa1",
       "version_major": 2,
       "version_minor": 0
      },
      "text/plain": [
       "HBox(children=(VBox(children=(Output(layout=Layout(border_bottom='1px solid black', border_left='1px solid bla…"
      ]
     },
     "metadata": {},
     "output_type": "display_data"
    }
   ],
   "source": [
    "display(scene)"
   ]
  },
  {
   "cell_type": "markdown",
   "id": "90b7de22-7a1c-4cfd-b997-e73e7d64ca76",
   "metadata": {},
   "source": [
    "### Instruction\n",
    "step1. Load model: load an extra tree regressor ML model for binding affinity prediction. Possible options:\n",
    "<br>\n",
    "- saved_model_skempiv2-ubv-denovo-pdbb.pkl: trained on SKEMPIv2+DeNovo+PDBBind dataset \n",
    "- saved_model_skempiv2-ubv-denovo.pkl: trained on SKEMPIv2+DeNovo dataset \n",
    "- saved_model_skempiv2.pkl: trained on SKEMPIv2 dataset\n",
    "- customized model: please see ml_regressor_train.ipynb notebook for how to train customized model\n",
    "<br>\n",
    "\n",
    "step2. Load Inputs: load a extracted feature matrix from module 1. The input file should started with \"ppi_index_extract_...\"\n",
    "<br>\n",
    "step3. Prediction: show prediction output.\n",
    "<br>\n",
    "##### Note: if the Prediction does not show, check input \"ppi_index_extract...\". Make sure no duplicate tables/headers within a single csv file."
   ]
  },
  {
   "cell_type": "code",
   "execution_count": null,
   "id": "c25499d9-6162-4880-9bca-74c583a6207f",
   "metadata": {},
   "outputs": [],
   "source": []
  }
 ],
 "metadata": {
  "kernelspec": {
   "display_name": "Python 3 (ipykernel)",
   "language": "python",
   "name": "python3"
  },
  "language_info": {
   "codemirror_mode": {
    "name": "ipython",
    "version": 3
   },
   "file_extension": ".py",
   "mimetype": "text/x-python",
   "name": "python",
   "nbconvert_exporter": "python",
   "pygments_lexer": "ipython3",
   "version": "3.9.18"
  }
 },
 "nbformat": 4,
 "nbformat_minor": 5
}
